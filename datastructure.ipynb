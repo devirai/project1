{
 "cells": [
  {
   "cell_type": "raw",
   "metadata": {},
   "source": [
    "## Data Structures¶\n"
   ]
  },
  {
   "cell_type": "markdown",
   "metadata": {},
   "source": [
    "Count Vowels - Enter a string and the program counts the number of vowels in the text. For added complexity have it report a sum of each vowel found.\n",
    "\n"
   ]
  },
  {
   "cell_type": "code",
   "execution_count": null,
   "metadata": {},
   "outputs": [],
   "source": [
    "def count_Vowels(text):\n",
    "    \n",
    "        \n",
    "    count = {char:0 for char in 'aeiou'}\n",
    "    \n",
    "    for letter in text.lower():\n",
    "        if letter in ('a','e','i','o','u'):\n",
    "            count[letter] += 1\n",
    "    return(count)\n",
    "        "
   ]
  },
  {
   "cell_type": "markdown",
   "metadata": {},
   "source": [
    "Vigenere / Vernam / Ceasar Ciphers - Functions for encrypting and decrypting data messages. Then send them to a friend.\n",
    "\n",
    "hint \n",
    "E_{n}(x)=(x+n)\\mod {26}.\n",
    "\n",
    "\n",
    "    "
   ]
  },
  {
   "cell_type": "code",
   "execution_count": 11,
   "metadata": {},
   "outputs": [],
   "source": [
    "def ceasar_Cipher_encrypt(plaintxt, key):\n",
    "    alpha = 'abcdefghijklmnopqrstuvwxyz'\n",
    "    ciphertxt = ' '\n",
    "    newindex = 0\n",
    "    \n",
    "    for letter in plaintxt:\n",
    "        if letter in alpha:\n",
    "            \n",
    "            newindex = (alpha.index(letter) + key) % 26\n",
    "            ciphertxt += alpha[newindex]\n",
    "        else:\n",
    "            ciphertxt += letter\n",
    "            \n",
    "    return(ciphertxt)"
   ]
  },
  {
   "cell_type": "code",
   "execution_count": 11,
   "metadata": {},
   "outputs": [],
   "source": [
    "def ceasar_cipher_decrypt(plaintxt, key):\n",
    "    alpha = 'abcdefghijklmnopqrstuvwxyz'\n",
    "    ciphertxt = ' '\n",
    "    newindex = 0\n",
    "    \n",
    "    for letter in plaintxt:\n",
    "        if letter in alpha:\n",
    "            \n",
    "            newindex = (alpha.index(letter) - key) % 26\n",
    "            ciphertxt += alpha[newindex]\n",
    "            \n",
    "    return(ciphertxt)\n",
    "    "
   ]
  },
  {
   "cell_type": "code",
   "execution_count": 12,
   "metadata": {},
   "outputs": [
    {
     "data": {
      "text/plain": [
       "' nbifti?'"
      ]
     },
     "execution_count": 12,
     "metadata": {},
     "output_type": "execute_result"
    }
   ],
   "source": [
    "ceasar_Cipher_encrypt('mahesh?', 1)"
   ]
  },
  {
   "cell_type": "code",
   "execution_count": 12,
   "metadata": {},
   "outputs": [
    {
     "data": {
      "text/plain": [
       "' mahesh'"
      ]
     },
     "execution_count": 12,
     "metadata": {},
     "output_type": "execute_result"
    }
   ],
   "source": [
    "ceasar_cipher_decrypt('nbifti',1)"
   ]
  },
  {
   "cell_type": "markdown",
   "metadata": {},
   "source": [
    "Coin Flip Simulation - Write some code that simulates flipping a single coin however many times the user decides. The code should record the outcomes and count the number of tails and heads.\n"
   ]
  },
  {
   "cell_type": "code",
   "execution_count": 46,
   "metadata": {},
   "outputs": [],
   "source": [
    "import random\n",
    "\n",
    "def coin_flip_simulation():\n",
    "    \n",
    "    #coin = {1:'head', 2:'tail'}\n",
    "    oldlist = ['head','tail']\n",
    "    num = 0\n",
    "    newlist = []\n",
    "    \n",
    "    num = int(input(\"the  no of times you want to flip the coin \"))\n",
    "    \n",
    "    while(num):\n",
    "        \n",
    "        #newlist.append(coin[random.randint(1,2)])\n",
    "        newlist.append(random.choice(oldlist))\n",
    "        num -= 1\n",
    "\n",
    "    print(\"the entire list of the flips \\n\\n {}\".format(newlist))\n",
    "    print(\"heads: {}    Tails :{}\".format(newlist.count('head'),newlist.count('tail')))\n",
    "\n"
   ]
  },
  {
   "cell_type": "code",
   "execution_count": 47,
   "metadata": {},
   "outputs": [
    {
     "name": "stdout",
     "output_type": "stream",
     "text": [
      "the  no of times you want to flip the coin 8\n",
      "the entire list of the flips \n",
      "\n",
      " ['head', 'head', 'head', 'head', 'tail', 'tail', 'head', 'tail']\n",
      "heads: 5    Tails :3\n"
     ]
    }
   ],
   "source": [
    "\n",
    "coin_flip_simulation()"
   ]
  },
  {
   "cell_type": "code",
   "execution_count": null,
   "metadata": {},
   "outputs": [],
   "source": []
  }
 ],
 "metadata": {
  "kernelspec": {
   "display_name": "Python 3",
   "language": "python",
   "name": "python3"
  },
  "language_info": {
   "codemirror_mode": {
    "name": "ipython",
    "version": 3
   },
   "file_extension": ".py",
   "mimetype": "text/x-python",
   "name": "python",
   "nbconvert_exporter": "python",
   "pygments_lexer": "ipython3",
   "version": "3.7.1"
  }
 },
 "nbformat": 4,
 "nbformat_minor": 2
}
